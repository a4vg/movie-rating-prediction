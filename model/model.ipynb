{
 "cells": [
  {
   "cell_type": "code",
   "execution_count": 46,
   "metadata": {},
   "outputs": [],
   "source": [
    "# Paquetes scikit-learn para preprocesamiento de datos\n",
    "# \"SimpleImputer\" es una transformación para completar los valores faltantes en conjuntos de datos\n",
    "from sklearn.impute import SimpleImputer\n",
    "\n",
    "# Paquetes de scikit-learn para entrenamiento de modelos y construcción de pipelines\n",
    "# Método para separar el conjunto de datos en muestras de tests y entrenamiento\n",
    "from sklearn.model_selection import train_test_split\n",
    "\n",
    "# Modelos\n",
    "from sklearn import linear_model\n",
    "from sklearn.linear_model import ElasticNet\n",
    "\n",
    "# Método para crear modelos basados en árboles de decisión\n",
    "from sklearn.tree import DecisionTreeClassifier\n",
    "\n",
    "# Clase para crear una pipeline de machine-learning\n",
    "from sklearn.pipeline import Pipeline\n",
    "\n",
    "# Preprocessing: Label encoding\n",
    "from sklearn import preprocessing\n",
    "\n",
    "# R2 score\n",
    "from sklearn.metrics import r2_score\n",
    "\n",
    "# MSE\n",
    "from sklearn.metrics import mean_squared_error\n",
    "\n",
    "# MAE\n",
    "from sklearn.metrics import mean_absolute_error\n",
    "\n",
    "# Biblioteca para trabajar con JSON\n",
    "import json\n",
    "\n",
    "# Biblioteca para exploración y análisis de datos\n",
    "import pandas as pd\n",
    "\n",
    "# Biblioteca con métodos numéricos y representaciones matriciales\n",
    "import numpy as np\n",
    "\n",
    "# Pickle\n",
    "import pickle\n",
    "\n",
    "import warnings\n",
    "warnings.filterwarnings(\"ignore\")"
   ]
  },
  {
   "cell_type": "markdown",
   "metadata": {},
   "source": [
    "## Import Data through a CSV file"
   ]
  },
  {
   "cell_type": "markdown",
   "metadata": {},
   "source": [
    "### Set path"
   ]
  },
  {
   "cell_type": "code",
   "execution_count": 9,
   "metadata": {},
   "outputs": [],
   "source": [
    "path = '../final.csv'"
   ]
  },
  {
   "cell_type": "code",
   "execution_count": 10,
   "metadata": {},
   "outputs": [],
   "source": [
    "df = pd.read_csv(path)"
   ]
  },
  {
   "cell_type": "markdown",
   "metadata": {},
   "source": [
    "### Features\n",
    "\n",
    "Features:\n",
    "\n",
    "- \n",
    "\n",
    "Target variable:\n",
    "- "
   ]
  },
  {
   "cell_type": "markdown",
   "metadata": {},
   "source": [
    "## Exploring dataset"
   ]
  },
  {
   "cell_type": "code",
   "execution_count": 11,
   "metadata": {},
   "outputs": [
    {
     "name": "stdout",
     "output_type": "stream",
     "text": [
      "<class 'pandas.core.frame.DataFrame'>\n",
      "RangeIndex: 20290 entries, 0 to 20289\n",
      "Data columns (total 11 columns):\n",
      " #   Column       Non-Null Count  Dtype  \n",
      "---  ------       --------------  -----  \n",
      " 0   id           20290 non-null  int64  \n",
      " 1   year         20290 non-null  int64  \n",
      " 2   genre        20290 non-null  object \n",
      " 3   director     20290 non-null  object \n",
      " 4   budget       4033 non-null   float64\n",
      " 5   country      20290 non-null  object \n",
      " 6   runtime      20044 non-null  float64\n",
      " 7   main_cast_1  20290 non-null  object \n",
      " 8   main_cast_2  20290 non-null  object \n",
      " 9   main_cast_3  20290 non-null  object \n",
      " 10  ratings      20290 non-null  float64\n",
      "dtypes: float64(3), int64(2), object(6)\n",
      "memory usage: 1.7+ MB\n"
     ]
    }
   ],
   "source": [
    "df.info()"
   ]
  },
  {
   "cell_type": "code",
   "execution_count": 12,
   "metadata": {},
   "outputs": [
    {
     "data": {
      "text/html": [
       "<div>\n",
       "<style scoped>\n",
       "    .dataframe tbody tr th:only-of-type {\n",
       "        vertical-align: middle;\n",
       "    }\n",
       "\n",
       "    .dataframe tbody tr th {\n",
       "        vertical-align: top;\n",
       "    }\n",
       "\n",
       "    .dataframe thead th {\n",
       "        text-align: right;\n",
       "    }\n",
       "</style>\n",
       "<table border=\"1\" class=\"dataframe\">\n",
       "  <thead>\n",
       "    <tr style=\"text-align: right;\">\n",
       "      <th></th>\n",
       "      <th>id</th>\n",
       "      <th>year</th>\n",
       "      <th>genre</th>\n",
       "      <th>director</th>\n",
       "      <th>budget</th>\n",
       "      <th>country</th>\n",
       "      <th>runtime</th>\n",
       "      <th>main_cast_1</th>\n",
       "      <th>main_cast_2</th>\n",
       "      <th>main_cast_3</th>\n",
       "      <th>ratings</th>\n",
       "    </tr>\n",
       "  </thead>\n",
       "  <tbody>\n",
       "    <tr>\n",
       "      <th>0</th>\n",
       "      <td>9</td>\n",
       "      <td>1995</td>\n",
       "      <td>Action</td>\n",
       "      <td>Peter Hyams</td>\n",
       "      <td>35000000.0</td>\n",
       "      <td>US</td>\n",
       "      <td>106.0</td>\n",
       "      <td>Blanche Bayliss</td>\n",
       "      <td>William Courtenay</td>\n",
       "      <td>Chauncey Depew</td>\n",
       "      <td>5.95</td>\n",
       "    </tr>\n",
       "    <tr>\n",
       "      <th>1</th>\n",
       "      <td>121</td>\n",
       "      <td>1992</td>\n",
       "      <td>Drama</td>\n",
       "      <td>John N. Smith</td>\n",
       "      <td>NaN</td>\n",
       "      <td>CA</td>\n",
       "      <td>93.0</td>\n",
       "      <td>Julie Seale</td>\n",
       "      <td>Fred Storey</td>\n",
       "      <td>Ellen Daws</td>\n",
       "      <td>8.24</td>\n",
       "    </tr>\n",
       "    <tr>\n",
       "      <th>2</th>\n",
       "      <td>165</td>\n",
       "      <td>1995</td>\n",
       "      <td>Action</td>\n",
       "      <td>John McTiernan</td>\n",
       "      <td>90000000.0</td>\n",
       "      <td>US</td>\n",
       "      <td>128.0</td>\n",
       "      <td>José Amigo</td>\n",
       "      <td>Antonio Fino</td>\n",
       "      <td>Antonio Masia</td>\n",
       "      <td>7.26</td>\n",
       "    </tr>\n",
       "    <tr>\n",
       "      <th>3</th>\n",
       "      <td>230</td>\n",
       "      <td>1995</td>\n",
       "      <td>Drama</td>\n",
       "      <td>Taylor Hackford</td>\n",
       "      <td>NaN</td>\n",
       "      <td>US</td>\n",
       "      <td>132.0</td>\n",
       "      <td>Bleuette Bernon</td>\n",
       "      <td>Carmelli</td>\n",
       "      <td>Dupeyron</td>\n",
       "      <td>7.72</td>\n",
       "    </tr>\n",
       "    <tr>\n",
       "      <th>4</th>\n",
       "      <td>247</td>\n",
       "      <td>1994</td>\n",
       "      <td>Crime</td>\n",
       "      <td>Peter Jackson</td>\n",
       "      <td>5000000.0</td>\n",
       "      <td>NZ</td>\n",
       "      <td>109.0</td>\n",
       "      <td>Herbert Beerbohm Tree</td>\n",
       "      <td>S.A. Cookson</td>\n",
       "      <td>Dora Tulloch</td>\n",
       "      <td>7.96</td>\n",
       "    </tr>\n",
       "  </tbody>\n",
       "</table>\n",
       "</div>"
      ],
      "text/plain": [
       "    id  year   genre         director      budget country  runtime  \\\n",
       "0    9  1995  Action      Peter Hyams  35000000.0      US    106.0   \n",
       "1  121  1992   Drama    John N. Smith         NaN      CA     93.0   \n",
       "2  165  1995  Action   John McTiernan  90000000.0      US    128.0   \n",
       "3  230  1995   Drama  Taylor Hackford         NaN      US    132.0   \n",
       "4  247  1994   Crime    Peter Jackson   5000000.0      NZ    109.0   \n",
       "\n",
       "             main_cast_1        main_cast_2     main_cast_3  ratings  \n",
       "0        Blanche Bayliss  William Courtenay  Chauncey Depew     5.95  \n",
       "1            Julie Seale        Fred Storey      Ellen Daws     8.24  \n",
       "2             José Amigo       Antonio Fino   Antonio Masia     7.26  \n",
       "3        Bleuette Bernon           Carmelli        Dupeyron     7.72  \n",
       "4  Herbert Beerbohm Tree       S.A. Cookson    Dora Tulloch     7.96  "
      ]
     },
     "execution_count": 12,
     "metadata": {},
     "output_type": "execute_result"
    }
   ],
   "source": [
    "df.head()"
   ]
  },
  {
   "cell_type": "markdown",
   "metadata": {},
   "source": [
    "### Visualizations"
   ]
  },
  {
   "cell_type": "code",
   "execution_count": 13,
   "metadata": {},
   "outputs": [],
   "source": [
    "import matplotlib.pyplot as plt\n",
    "import seaborn as sns\n",
    "%matplotlib inline"
   ]
  },
  {
   "cell_type": "markdown",
   "metadata": {},
   "source": [
    "#### Rating"
   ]
  },
  {
   "cell_type": "code",
   "execution_count": 14,
   "metadata": {
    "scrolled": true
   },
   "outputs": [
    {
     "data": {
      "text/plain": [
       "<AxesSubplot:xlabel='ratings', ylabel='Density'>"
      ]
     },
     "execution_count": 14,
     "metadata": {},
     "output_type": "execute_result"
    },
    {
     "data": {
      "image/png": "[encoded data removed]",
      "text/plain": [
       "<Figure size 2016x288 with 1 Axes>"
      ]
     },
     "metadata": {
      "needs_background": "light"
     },
     "output_type": "display_data"
    }
   ],
   "source": [
    "fig, axes = plt.subplots(nrows=1, ncols=1, figsize=(28, 4))\n",
    "sns.distplot(df['ratings'].dropna(), ax = axes)"
   ]
  },
  {
   "cell_type": "markdown",
   "metadata": {},
   "source": [
    "### Year and Budget"
   ]
  },
  {
   "cell_type": "code",
   "execution_count": 15,
   "metadata": {},
   "outputs": [
    {
     "data": {
      "text/plain": [
       "<AxesSubplot:xlabel='budget', ylabel='Density'>"
      ]
     },
     "execution_count": 15,
     "metadata": {},
     "output_type": "execute_result"
    },
    {
     "data": {
      "image/png": "[encoded data removed]",
      "text/plain": [
       "<Figure size 2016x288 with 2 Axes>"
      ]
     },
     "metadata": {
      "needs_background": "light"
     },
     "output_type": "display_data"
    }
   ],
   "source": [
    "fig, axes = plt.subplots(nrows=1, ncols=2, figsize=(28, 4))\n",
    "sns.distplot(df['year'].dropna(), ax = axes[0])\n",
    "sns.distplot(df['budget'].dropna(), ax = axes[1])"
   ]
  },
  {
   "cell_type": "markdown",
   "metadata": {},
   "source": [
    "## Preprocessing data"
   ]
  },
  {
   "cell_type": "code",
   "execution_count": 16,
   "metadata": {},
   "outputs": [
    {
     "data": {
      "text/html": [
       "<div>\n",
       "<style scoped>\n",
       "    .dataframe tbody tr th:only-of-type {\n",
       "        vertical-align: middle;\n",
       "    }\n",
       "\n",
       "    .dataframe tbody tr th {\n",
       "        vertical-align: top;\n",
       "    }\n",
       "\n",
       "    .dataframe thead th {\n",
       "        text-align: right;\n",
       "    }\n",
       "</style>\n",
       "<table border=\"1\" class=\"dataframe\">\n",
       "  <thead>\n",
       "    <tr style=\"text-align: right;\">\n",
       "      <th></th>\n",
       "      <th>id</th>\n",
       "      <th>year</th>\n",
       "      <th>genre</th>\n",
       "      <th>director</th>\n",
       "      <th>budget</th>\n",
       "      <th>country</th>\n",
       "      <th>runtime</th>\n",
       "      <th>main_cast_1</th>\n",
       "      <th>main_cast_2</th>\n",
       "      <th>main_cast_3</th>\n",
       "      <th>ratings</th>\n",
       "    </tr>\n",
       "  </thead>\n",
       "  <tbody>\n",
       "    <tr>\n",
       "      <th>0</th>\n",
       "      <td>9</td>\n",
       "      <td>1995</td>\n",
       "      <td>Action</td>\n",
       "      <td>Peter Hyams</td>\n",
       "      <td>35000000.0</td>\n",
       "      <td>US</td>\n",
       "      <td>106.0</td>\n",
       "      <td>Blanche Bayliss</td>\n",
       "      <td>William Courtenay</td>\n",
       "      <td>Chauncey Depew</td>\n",
       "      <td>5.95</td>\n",
       "    </tr>\n",
       "    <tr>\n",
       "      <th>1</th>\n",
       "      <td>121</td>\n",
       "      <td>1992</td>\n",
       "      <td>Drama</td>\n",
       "      <td>John N. Smith</td>\n",
       "      <td>NaN</td>\n",
       "      <td>CA</td>\n",
       "      <td>93.0</td>\n",
       "      <td>Julie Seale</td>\n",
       "      <td>Fred Storey</td>\n",
       "      <td>Ellen Daws</td>\n",
       "      <td>8.24</td>\n",
       "    </tr>\n",
       "    <tr>\n",
       "      <th>2</th>\n",
       "      <td>165</td>\n",
       "      <td>1995</td>\n",
       "      <td>Action</td>\n",
       "      <td>John McTiernan</td>\n",
       "      <td>90000000.0</td>\n",
       "      <td>US</td>\n",
       "      <td>128.0</td>\n",
       "      <td>José Amigo</td>\n",
       "      <td>Antonio Fino</td>\n",
       "      <td>Antonio Masia</td>\n",
       "      <td>7.26</td>\n",
       "    </tr>\n",
       "    <tr>\n",
       "      <th>3</th>\n",
       "      <td>230</td>\n",
       "      <td>1995</td>\n",
       "      <td>Drama</td>\n",
       "      <td>Taylor Hackford</td>\n",
       "      <td>NaN</td>\n",
       "      <td>US</td>\n",
       "      <td>132.0</td>\n",
       "      <td>Bleuette Bernon</td>\n",
       "      <td>Carmelli</td>\n",
       "      <td>Dupeyron</td>\n",
       "      <td>7.72</td>\n",
       "    </tr>\n",
       "    <tr>\n",
       "      <th>4</th>\n",
       "      <td>247</td>\n",
       "      <td>1994</td>\n",
       "      <td>Crime</td>\n",
       "      <td>Peter Jackson</td>\n",
       "      <td>5000000.0</td>\n",
       "      <td>NZ</td>\n",
       "      <td>109.0</td>\n",
       "      <td>Herbert Beerbohm Tree</td>\n",
       "      <td>S.A. Cookson</td>\n",
       "      <td>Dora Tulloch</td>\n",
       "      <td>7.96</td>\n",
       "    </tr>\n",
       "  </tbody>\n",
       "</table>\n",
       "</div>"
      ],
      "text/plain": [
       "    id  year   genre         director      budget country  runtime  \\\n",
       "0    9  1995  Action      Peter Hyams  35000000.0      US    106.0   \n",
       "1  121  1992   Drama    John N. Smith         NaN      CA     93.0   \n",
       "2  165  1995  Action   John McTiernan  90000000.0      US    128.0   \n",
       "3  230  1995   Drama  Taylor Hackford         NaN      US    132.0   \n",
       "4  247  1994   Crime    Peter Jackson   5000000.0      NZ    109.0   \n",
       "\n",
       "             main_cast_1        main_cast_2     main_cast_3  ratings  \n",
       "0        Blanche Bayliss  William Courtenay  Chauncey Depew     5.95  \n",
       "1            Julie Seale        Fred Storey      Ellen Daws     8.24  \n",
       "2             José Amigo       Antonio Fino   Antonio Masia     7.26  \n",
       "3        Bleuette Bernon           Carmelli        Dupeyron     7.72  \n",
       "4  Herbert Beerbohm Tree       S.A. Cookson    Dora Tulloch     7.96  "
      ]
     },
     "execution_count": 16,
     "metadata": {},
     "output_type": "execute_result"
    }
   ],
   "source": [
    "df.head()"
   ]
  },
  {
   "cell_type": "markdown",
   "metadata": {},
   "source": [
    "### Process 01: Delete columns"
   ]
  },
  {
   "cell_type": "code",
   "execution_count": 17,
   "metadata": {},
   "outputs": [],
   "source": [
    "columns = [\"id\"]\n",
    "df.drop(columns, axis=1, inplace=True)"
   ]
  },
  {
   "cell_type": "code",
   "execution_count": 18,
   "metadata": {},
   "outputs": [
    {
     "name": "stdout",
     "output_type": "stream",
     "text": [
      "<class 'pandas.core.frame.DataFrame'>\n",
      "RangeIndex: 20290 entries, 0 to 20289\n",
      "Data columns (total 10 columns):\n",
      " #   Column       Non-Null Count  Dtype  \n",
      "---  ------       --------------  -----  \n",
      " 0   year         20290 non-null  int64  \n",
      " 1   genre        20290 non-null  object \n",
      " 2   director     20290 non-null  object \n",
      " 3   budget       4033 non-null   float64\n",
      " 4   country      20290 non-null  object \n",
      " 5   runtime      20044 non-null  float64\n",
      " 6   main_cast_1  20290 non-null  object \n",
      " 7   main_cast_2  20290 non-null  object \n",
      " 8   main_cast_3  20290 non-null  object \n",
      " 9   ratings      20290 non-null  float64\n",
      "dtypes: float64(3), int64(1), object(6)\n",
      "memory usage: 1.5+ MB\n"
     ]
    }
   ],
   "source": [
    "df.info()"
   ]
  },
  {
   "cell_type": "code",
   "execution_count": 19,
   "metadata": {},
   "outputs": [
    {
     "data": {
      "text/html": [
       "<div>\n",
       "<style scoped>\n",
       "    .dataframe tbody tr th:only-of-type {\n",
       "        vertical-align: middle;\n",
       "    }\n",
       "\n",
       "    .dataframe tbody tr th {\n",
       "        vertical-align: top;\n",
       "    }\n",
       "\n",
       "    .dataframe thead th {\n",
       "        text-align: right;\n",
       "    }\n",
       "</style>\n",
       "<table border=\"1\" class=\"dataframe\">\n",
       "  <thead>\n",
       "    <tr style=\"text-align: right;\">\n",
       "      <th></th>\n",
       "      <th>year</th>\n",
       "      <th>genre</th>\n",
       "      <th>director</th>\n",
       "      <th>budget</th>\n",
       "      <th>country</th>\n",
       "      <th>runtime</th>\n",
       "      <th>main_cast_1</th>\n",
       "      <th>main_cast_2</th>\n",
       "      <th>main_cast_3</th>\n",
       "      <th>ratings</th>\n",
       "    </tr>\n",
       "  </thead>\n",
       "  <tbody>\n",
       "    <tr>\n",
       "      <th>0</th>\n",
       "      <td>1995</td>\n",
       "      <td>Action</td>\n",
       "      <td>Peter Hyams</td>\n",
       "      <td>35000000.0</td>\n",
       "      <td>US</td>\n",
       "      <td>106.0</td>\n",
       "      <td>Blanche Bayliss</td>\n",
       "      <td>William Courtenay</td>\n",
       "      <td>Chauncey Depew</td>\n",
       "      <td>5.95</td>\n",
       "    </tr>\n",
       "    <tr>\n",
       "      <th>1</th>\n",
       "      <td>1992</td>\n",
       "      <td>Drama</td>\n",
       "      <td>John N. Smith</td>\n",
       "      <td>NaN</td>\n",
       "      <td>CA</td>\n",
       "      <td>93.0</td>\n",
       "      <td>Julie Seale</td>\n",
       "      <td>Fred Storey</td>\n",
       "      <td>Ellen Daws</td>\n",
       "      <td>8.24</td>\n",
       "    </tr>\n",
       "    <tr>\n",
       "      <th>2</th>\n",
       "      <td>1995</td>\n",
       "      <td>Action</td>\n",
       "      <td>John McTiernan</td>\n",
       "      <td>90000000.0</td>\n",
       "      <td>US</td>\n",
       "      <td>128.0</td>\n",
       "      <td>José Amigo</td>\n",
       "      <td>Antonio Fino</td>\n",
       "      <td>Antonio Masia</td>\n",
       "      <td>7.26</td>\n",
       "    </tr>\n",
       "    <tr>\n",
       "      <th>3</th>\n",
       "      <td>1995</td>\n",
       "      <td>Drama</td>\n",
       "      <td>Taylor Hackford</td>\n",
       "      <td>NaN</td>\n",
       "      <td>US</td>\n",
       "      <td>132.0</td>\n",
       "      <td>Bleuette Bernon</td>\n",
       "      <td>Carmelli</td>\n",
       "      <td>Dupeyron</td>\n",
       "      <td>7.72</td>\n",
       "    </tr>\n",
       "    <tr>\n",
       "      <th>4</th>\n",
       "      <td>1994</td>\n",
       "      <td>Crime</td>\n",
       "      <td>Peter Jackson</td>\n",
       "      <td>5000000.0</td>\n",
       "      <td>NZ</td>\n",
       "      <td>109.0</td>\n",
       "      <td>Herbert Beerbohm Tree</td>\n",
       "      <td>S.A. Cookson</td>\n",
       "      <td>Dora Tulloch</td>\n",
       "      <td>7.96</td>\n",
       "    </tr>\n",
       "  </tbody>\n",
       "</table>\n",
       "</div>"
      ],
      "text/plain": [
       "   year   genre         director      budget country  runtime  \\\n",
       "0  1995  Action      Peter Hyams  35000000.0      US    106.0   \n",
       "1  1992   Drama    John N. Smith         NaN      CA     93.0   \n",
       "2  1995  Action   John McTiernan  90000000.0      US    128.0   \n",
       "3  1995   Drama  Taylor Hackford         NaN      US    132.0   \n",
       "4  1994   Crime    Peter Jackson   5000000.0      NZ    109.0   \n",
       "\n",
       "             main_cast_1        main_cast_2     main_cast_3  ratings  \n",
       "0        Blanche Bayliss  William Courtenay  Chauncey Depew     5.95  \n",
       "1            Julie Seale        Fred Storey      Ellen Daws     8.24  \n",
       "2             José Amigo       Antonio Fino   Antonio Masia     7.26  \n",
       "3        Bleuette Bernon           Carmelli        Dupeyron     7.72  \n",
       "4  Herbert Beerbohm Tree       S.A. Cookson    Dora Tulloch     7.96  "
      ]
     },
     "execution_count": 19,
     "metadata": {},
     "output_type": "execute_result"
    }
   ],
   "source": [
    "df.head()"
   ]
  },
  {
   "cell_type": "markdown",
   "metadata": {},
   "source": [
    "## Process 02: Encode data"
   ]
  },
  {
   "cell_type": "code",
   "execution_count": 20,
   "metadata": {},
   "outputs": [],
   "source": [
    "def encodeColumns(df, columns):\n",
    "    le = preprocessing.LabelEncoder()\n",
    "    for column in columns:\n",
    "        le.fit(df[column])\n",
    "        # TODO: Guardar en Pickle  encodes/encode_column.pickle  ---> le.classes_\n",
    "        # TODO: El backend debe devolver la lista le.clasess_\n",
    "        df[column] = le.transform(df[column])\n",
    "        \n",
    "columnsToEncode = ['genre', 'director', 'country', 'main_cast_1', 'main_cast_2', 'main_cast_3']\n",
    "encodeColumns(df, columnsToEncode)"
   ]
  },
  {
   "cell_type": "code",
   "execution_count": 21,
   "metadata": {},
   "outputs": [
    {
     "data": {
      "text/html": [
       "<div>\n",
       "<style scoped>\n",
       "    .dataframe tbody tr th:only-of-type {\n",
       "        vertical-align: middle;\n",
       "    }\n",
       "\n",
       "    .dataframe tbody tr th {\n",
       "        vertical-align: top;\n",
       "    }\n",
       "\n",
       "    .dataframe thead th {\n",
       "        text-align: right;\n",
       "    }\n",
       "</style>\n",
       "<table border=\"1\" class=\"dataframe\">\n",
       "  <thead>\n",
       "    <tr style=\"text-align: right;\">\n",
       "      <th></th>\n",
       "      <th>year</th>\n",
       "      <th>genre</th>\n",
       "      <th>director</th>\n",
       "      <th>budget</th>\n",
       "      <th>country</th>\n",
       "      <th>runtime</th>\n",
       "      <th>main_cast_1</th>\n",
       "      <th>main_cast_2</th>\n",
       "      <th>main_cast_3</th>\n",
       "      <th>ratings</th>\n",
       "    </tr>\n",
       "  </thead>\n",
       "  <tbody>\n",
       "    <tr>\n",
       "      <th>0</th>\n",
       "      <td>1995</td>\n",
       "      <td>0</td>\n",
       "      <td>8143</td>\n",
       "      <td>35000000.0</td>\n",
       "      <td>129</td>\n",
       "      <td>106.0</td>\n",
       "      <td>2182</td>\n",
       "      <td>19115</td>\n",
       "      <td>2939</td>\n",
       "      <td>5.95</td>\n",
       "    </tr>\n",
       "    <tr>\n",
       "      <th>1</th>\n",
       "      <td>1992</td>\n",
       "      <td>7</td>\n",
       "      <td>5120</td>\n",
       "      <td>NaN</td>\n",
       "      <td>24</td>\n",
       "      <td>93.0</td>\n",
       "      <td>9669</td>\n",
       "      <td>5980</td>\n",
       "      <td>5012</td>\n",
       "      <td>8.24</td>\n",
       "    </tr>\n",
       "    <tr>\n",
       "      <th>2</th>\n",
       "      <td>1995</td>\n",
       "      <td>0</td>\n",
       "      <td>5111</td>\n",
       "      <td>90000000.0</td>\n",
       "      <td>129</td>\n",
       "      <td>128.0</td>\n",
       "      <td>9438</td>\n",
       "      <td>1228</td>\n",
       "      <td>1242</td>\n",
       "      <td>7.26</td>\n",
       "    </tr>\n",
       "    <tr>\n",
       "      <th>3</th>\n",
       "      <td>1995</td>\n",
       "      <td>7</td>\n",
       "      <td>10029</td>\n",
       "      <td>NaN</td>\n",
       "      <td>129</td>\n",
       "      <td>132.0</td>\n",
       "      <td>2194</td>\n",
       "      <td>2624</td>\n",
       "      <td>4619</td>\n",
       "      <td>7.72</td>\n",
       "    </tr>\n",
       "    <tr>\n",
       "      <th>4</th>\n",
       "      <td>1994</td>\n",
       "      <td>5</td>\n",
       "      <td>8145</td>\n",
       "      <td>5000000.0</td>\n",
       "      <td>95</td>\n",
       "      <td>109.0</td>\n",
       "      <td>7325</td>\n",
       "      <td>16372</td>\n",
       "      <td>4479</td>\n",
       "      <td>7.96</td>\n",
       "    </tr>\n",
       "  </tbody>\n",
       "</table>\n",
       "</div>"
      ],
      "text/plain": [
       "   year  genre  director      budget  country  runtime  main_cast_1  \\\n",
       "0  1995      0      8143  35000000.0      129    106.0         2182   \n",
       "1  1992      7      5120         NaN       24     93.0         9669   \n",
       "2  1995      0      5111  90000000.0      129    128.0         9438   \n",
       "3  1995      7     10029         NaN      129    132.0         2194   \n",
       "4  1994      5      8145   5000000.0       95    109.0         7325   \n",
       "\n",
       "   main_cast_2  main_cast_3  ratings  \n",
       "0        19115         2939     5.95  \n",
       "1         5980         5012     8.24  \n",
       "2         1228         1242     7.26  \n",
       "3         2624         4619     7.72  \n",
       "4        16372         4479     7.96  "
      ]
     },
     "execution_count": 21,
     "metadata": {},
     "output_type": "execute_result"
    }
   ],
   "source": [
    "df.head()"
   ]
  },
  {
   "cell_type": "markdown",
   "metadata": {},
   "source": [
    "## Process 03: Missing data"
   ]
  },
  {
   "cell_type": "code",
   "execution_count": 22,
   "metadata": {},
   "outputs": [],
   "source": [
    "# TODO: Decidir estrategias\n",
    "si = SimpleImputer(\n",
    "    missing_values = np.nan,  # los valores que faltan son del tipo ``np.nan`` (Pandas estándar)\n",
    "    strategy = 'median',  # strategies:  \n",
    "    #fill_value=0,  # la constante que se usará para completar los valores faltantes es un int64 = 0\n",
    "    verbose=0,\n",
    "    copy=True\n",
    ")"
   ]
  },
  {
   "cell_type": "code",
   "execution_count": 23,
   "metadata": {},
   "outputs": [
    {
     "name": "stdout",
     "output_type": "stream",
     "text": [
      "Null values before transformation: \n",
      "\n",
      "year               0\n",
      "genre              0\n",
      "director           0\n",
      "budget         16257\n",
      "country            0\n",
      "runtime          246\n",
      "main_cast_1        0\n",
      "main_cast_2        0\n",
      "main_cast_3        0\n",
      "ratings            0\n",
      "dtype: int64\n",
      "\n"
     ]
    }
   ],
   "source": [
    "print(\"Null values before transformation: \\n\\n{}\\n\".format(df.isnull().sum(axis = 0)))"
   ]
  },
  {
   "cell_type": "code",
   "execution_count": 24,
   "metadata": {},
   "outputs": [
    {
     "data": {
      "text/plain": [
       "SimpleImputer(strategy='median')"
      ]
     },
     "execution_count": 24,
     "metadata": {},
     "output_type": "execute_result"
    }
   ],
   "source": [
    "si.fit( X = df)"
   ]
  },
  {
   "cell_type": "code",
   "execution_count": 25,
   "metadata": {},
   "outputs": [],
   "source": [
    "# Reconstrucción de un nuevo DataFrame de Pandas con el conjunto imputado (df_data_3)\n",
    "df = pd.DataFrame.from_records(data = si.transform(X = df), columns = df.columns)"
   ]
  },
  {
   "cell_type": "code",
   "execution_count": 26,
   "metadata": {},
   "outputs": [
    {
     "name": "stdout",
     "output_type": "stream",
     "text": [
      "Null values after transformation: \n",
      "\n",
      "year           0\n",
      "genre          0\n",
      "director       0\n",
      "budget         0\n",
      "country        0\n",
      "runtime        0\n",
      "main_cast_1    0\n",
      "main_cast_2    0\n",
      "main_cast_3    0\n",
      "ratings        0\n",
      "dtype: int64\n",
      "\n"
     ]
    }
   ],
   "source": [
    "print(\"Null values after transformation: \\n\\n{}\\n\".format(df.isnull().sum(axis = 0)))"
   ]
  },
  {
   "cell_type": "markdown",
   "metadata": {},
   "source": [
    "## Training"
   ]
  },
  {
   "cell_type": "markdown",
   "metadata": {},
   "source": [
    "### Define features and target"
   ]
  },
  {
   "cell_type": "code",
   "execution_count": 27,
   "metadata": {},
   "outputs": [],
   "source": [
    "limitedColumns = ['year', 'genre', 'director', 'country', 'main_cast_1', 'main_cast_2', 'main_cast_3']"
   ]
  },
  {
   "cell_type": "code",
   "execution_count": 28,
   "metadata": {},
   "outputs": [],
   "source": [
    "def limitColumns(df, columns):\n",
    "    for column in columns:\n",
    "        df[column] = pd.to_numeric(df[column], downcast='integer')\n",
    "\n",
    "limitColumns(df, limitedColumns)"
   ]
  },
  {
   "cell_type": "code",
   "execution_count": 29,
   "metadata": {},
   "outputs": [
    {
     "data": {
      "text/html": [
       "<div>\n",
       "<style scoped>\n",
       "    .dataframe tbody tr th:only-of-type {\n",
       "        vertical-align: middle;\n",
       "    }\n",
       "\n",
       "    .dataframe tbody tr th {\n",
       "        vertical-align: top;\n",
       "    }\n",
       "\n",
       "    .dataframe thead th {\n",
       "        text-align: right;\n",
       "    }\n",
       "</style>\n",
       "<table border=\"1\" class=\"dataframe\">\n",
       "  <thead>\n",
       "    <tr style=\"text-align: right;\">\n",
       "      <th></th>\n",
       "      <th>year</th>\n",
       "      <th>genre</th>\n",
       "      <th>director</th>\n",
       "      <th>budget</th>\n",
       "      <th>country</th>\n",
       "      <th>runtime</th>\n",
       "      <th>main_cast_1</th>\n",
       "      <th>main_cast_2</th>\n",
       "      <th>main_cast_3</th>\n",
       "      <th>ratings</th>\n",
       "    </tr>\n",
       "  </thead>\n",
       "  <tbody>\n",
       "    <tr>\n",
       "      <th>0</th>\n",
       "      <td>1995</td>\n",
       "      <td>0</td>\n",
       "      <td>8143</td>\n",
       "      <td>35000000.0</td>\n",
       "      <td>129</td>\n",
       "      <td>106.0</td>\n",
       "      <td>2182</td>\n",
       "      <td>19115</td>\n",
       "      <td>2939</td>\n",
       "      <td>5.95</td>\n",
       "    </tr>\n",
       "    <tr>\n",
       "      <th>1</th>\n",
       "      <td>1992</td>\n",
       "      <td>7</td>\n",
       "      <td>5120</td>\n",
       "      <td>7750000.0</td>\n",
       "      <td>24</td>\n",
       "      <td>93.0</td>\n",
       "      <td>9669</td>\n",
       "      <td>5980</td>\n",
       "      <td>5012</td>\n",
       "      <td>8.24</td>\n",
       "    </tr>\n",
       "    <tr>\n",
       "      <th>2</th>\n",
       "      <td>1995</td>\n",
       "      <td>0</td>\n",
       "      <td>5111</td>\n",
       "      <td>90000000.0</td>\n",
       "      <td>129</td>\n",
       "      <td>128.0</td>\n",
       "      <td>9438</td>\n",
       "      <td>1228</td>\n",
       "      <td>1242</td>\n",
       "      <td>7.26</td>\n",
       "    </tr>\n",
       "    <tr>\n",
       "      <th>3</th>\n",
       "      <td>1995</td>\n",
       "      <td>7</td>\n",
       "      <td>10029</td>\n",
       "      <td>7750000.0</td>\n",
       "      <td>129</td>\n",
       "      <td>132.0</td>\n",
       "      <td>2194</td>\n",
       "      <td>2624</td>\n",
       "      <td>4619</td>\n",
       "      <td>7.72</td>\n",
       "    </tr>\n",
       "    <tr>\n",
       "      <th>4</th>\n",
       "      <td>1994</td>\n",
       "      <td>5</td>\n",
       "      <td>8145</td>\n",
       "      <td>5000000.0</td>\n",
       "      <td>95</td>\n",
       "      <td>109.0</td>\n",
       "      <td>7325</td>\n",
       "      <td>16372</td>\n",
       "      <td>4479</td>\n",
       "      <td>7.96</td>\n",
       "    </tr>\n",
       "  </tbody>\n",
       "</table>\n",
       "</div>"
      ],
      "text/plain": [
       "   year  genre  director      budget  country  runtime  main_cast_1  \\\n",
       "0  1995      0      8143  35000000.0      129    106.0         2182   \n",
       "1  1992      7      5120   7750000.0       24     93.0         9669   \n",
       "2  1995      0      5111  90000000.0      129    128.0         9438   \n",
       "3  1995      7     10029   7750000.0      129    132.0         2194   \n",
       "4  1994      5      8145   5000000.0       95    109.0         7325   \n",
       "\n",
       "   main_cast_2  main_cast_3  ratings  \n",
       "0        19115         2939     5.95  \n",
       "1         5980         5012     8.24  \n",
       "2         1228         1242     7.26  \n",
       "3         2624         4619     7.72  \n",
       "4        16372         4479     7.96  "
      ]
     },
     "execution_count": 29,
     "metadata": {},
     "output_type": "execute_result"
    }
   ],
   "source": [
    "df.head()"
   ]
  },
  {
   "cell_type": "code",
   "execution_count": 30,
   "metadata": {},
   "outputs": [],
   "source": [
    "features = [\"year\", \"genre\", \"director\", \"main_cast_1\", \"main_cast_2\", \"main_cast_3\", \"budget\", \"country\", \"runtime\"]\n",
    "target = [\"ratings\"]\n",
    "\n",
    "X = df[features]\n",
    "y = df[target]"
   ]
  },
  {
   "cell_type": "markdown",
   "metadata": {},
   "source": [
    "### Splitting data: Train and Test data"
   ]
  },
  {
   "cell_type": "code",
   "execution_count": 31,
   "metadata": {},
   "outputs": [],
   "source": [
    "X_train, X_test, y_train, y_test = train_test_split(X, y, test_size=0.3, random_state=337)"
   ]
  },
  {
   "cell_type": "code",
   "execution_count": 32,
   "metadata": {},
   "outputs": [
    {
     "data": {
      "text/html": [
       "<div>\n",
       "<style scoped>\n",
       "    .dataframe tbody tr th:only-of-type {\n",
       "        vertical-align: middle;\n",
       "    }\n",
       "\n",
       "    .dataframe tbody tr th {\n",
       "        vertical-align: top;\n",
       "    }\n",
       "\n",
       "    .dataframe thead th {\n",
       "        text-align: right;\n",
       "    }\n",
       "</style>\n",
       "<table border=\"1\" class=\"dataframe\">\n",
       "  <thead>\n",
       "    <tr style=\"text-align: right;\">\n",
       "      <th></th>\n",
       "      <th>year</th>\n",
       "      <th>genre</th>\n",
       "      <th>director</th>\n",
       "      <th>main_cast_1</th>\n",
       "      <th>main_cast_2</th>\n",
       "      <th>main_cast_3</th>\n",
       "      <th>budget</th>\n",
       "      <th>country</th>\n",
       "      <th>runtime</th>\n",
       "    </tr>\n",
       "  </thead>\n",
       "  <tbody>\n",
       "    <tr>\n",
       "      <th>2275</th>\n",
       "      <td>2005</td>\n",
       "      <td>7</td>\n",
       "      <td>4287</td>\n",
       "      <td>12322</td>\n",
       "      <td>9112</td>\n",
       "      <td>9765</td>\n",
       "      <td>7750000.0</td>\n",
       "      <td>46</td>\n",
       "      <td>107.0</td>\n",
       "    </tr>\n",
       "    <tr>\n",
       "      <th>5954</th>\n",
       "      <td>2009</td>\n",
       "      <td>7</td>\n",
       "      <td>3115</td>\n",
       "      <td>12861</td>\n",
       "      <td>9497</td>\n",
       "      <td>16527</td>\n",
       "      <td>20000000.0</td>\n",
       "      <td>30</td>\n",
       "      <td>134.0</td>\n",
       "    </tr>\n",
       "    <tr>\n",
       "      <th>8610</th>\n",
       "      <td>2012</td>\n",
       "      <td>7</td>\n",
       "      <td>2766</td>\n",
       "      <td>9944</td>\n",
       "      <td>16964</td>\n",
       "      <td>10747</td>\n",
       "      <td>7750000.0</td>\n",
       "      <td>46</td>\n",
       "      <td>90.0</td>\n",
       "    </tr>\n",
       "    <tr>\n",
       "      <th>6696</th>\n",
       "      <td>1933</td>\n",
       "      <td>4</td>\n",
       "      <td>3913</td>\n",
       "      <td>7711</td>\n",
       "      <td>13228</td>\n",
       "      <td>8414</td>\n",
       "      <td>7750000.0</td>\n",
       "      <td>129</td>\n",
       "      <td>97.0</td>\n",
       "    </tr>\n",
       "    <tr>\n",
       "      <th>17927</th>\n",
       "      <td>1959</td>\n",
       "      <td>14</td>\n",
       "      <td>10614</td>\n",
       "      <td>15811</td>\n",
       "      <td>10740</td>\n",
       "      <td>2614</td>\n",
       "      <td>7750000.0</td>\n",
       "      <td>129</td>\n",
       "      <td>73.0</td>\n",
       "    </tr>\n",
       "  </tbody>\n",
       "</table>\n",
       "</div>"
      ],
      "text/plain": [
       "       year  genre  director  main_cast_1  main_cast_2  main_cast_3  \\\n",
       "2275   2005      7      4287        12322         9112         9765   \n",
       "5954   2009      7      3115        12861         9497        16527   \n",
       "8610   2012      7      2766         9944        16964        10747   \n",
       "6696   1933      4      3913         7711        13228         8414   \n",
       "17927  1959     14     10614        15811        10740         2614   \n",
       "\n",
       "           budget  country  runtime  \n",
       "2275    7750000.0       46    107.0  \n",
       "5954   20000000.0       30    134.0  \n",
       "8610    7750000.0       46     90.0  \n",
       "6696    7750000.0      129     97.0  \n",
       "17927   7750000.0      129     73.0  "
      ]
     },
     "execution_count": 32,
     "metadata": {},
     "output_type": "execute_result"
    }
   ],
   "source": [
    "X_train.head()"
   ]
  },
  {
   "cell_type": "code",
   "execution_count": 33,
   "metadata": {},
   "outputs": [
    {
     "data": {
      "text/html": [
       "<div>\n",
       "<style scoped>\n",
       "    .dataframe tbody tr th:only-of-type {\n",
       "        vertical-align: middle;\n",
       "    }\n",
       "\n",
       "    .dataframe tbody tr th {\n",
       "        vertical-align: top;\n",
       "    }\n",
       "\n",
       "    .dataframe thead th {\n",
       "        text-align: right;\n",
       "    }\n",
       "</style>\n",
       "<table border=\"1\" class=\"dataframe\">\n",
       "  <thead>\n",
       "    <tr style=\"text-align: right;\">\n",
       "      <th></th>\n",
       "      <th>ratings</th>\n",
       "    </tr>\n",
       "  </thead>\n",
       "  <tbody>\n",
       "    <tr>\n",
       "      <th>2275</th>\n",
       "      <td>7.27</td>\n",
       "    </tr>\n",
       "    <tr>\n",
       "      <th>5954</th>\n",
       "      <td>7.24</td>\n",
       "    </tr>\n",
       "    <tr>\n",
       "      <th>8610</th>\n",
       "      <td>6.88</td>\n",
       "    </tr>\n",
       "    <tr>\n",
       "      <th>6696</th>\n",
       "      <td>6.33</td>\n",
       "    </tr>\n",
       "    <tr>\n",
       "      <th>17927</th>\n",
       "      <td>3.72</td>\n",
       "    </tr>\n",
       "  </tbody>\n",
       "</table>\n",
       "</div>"
      ],
      "text/plain": [
       "       ratings\n",
       "2275      7.27\n",
       "5954      7.24\n",
       "8610      6.88\n",
       "6696      6.33\n",
       "17927     3.72"
      ]
     },
     "execution_count": 33,
     "metadata": {},
     "output_type": "execute_result"
    }
   ],
   "source": [
    "y_train.head()"
   ]
  },
  {
   "cell_type": "markdown",
   "metadata": {},
   "source": [
    "### Model: ElasticNet"
   ]
  },
  {
   "cell_type": "code",
   "execution_count": 34,
   "metadata": {},
   "outputs": [],
   "source": [
    "elasticModel = ElasticNet(random_state = 0)"
   ]
  },
  {
   "cell_type": "code",
   "execution_count": 35,
   "metadata": {},
   "outputs": [
    {
     "data": {
      "text/plain": [
       "ElasticNet(random_state=0)"
      ]
     },
     "execution_count": 35,
     "metadata": {},
     "output_type": "execute_result"
    }
   ],
   "source": [
    "elasticModel.fit(X_train, y_train.values.ravel())"
   ]
  },
  {
   "cell_type": "code",
   "execution_count": 36,
   "metadata": {},
   "outputs": [],
   "source": [
    "elastic_predicted = elasticModel.predict(X_test)"
   ]
  },
  {
   "cell_type": "code",
   "execution_count": 37,
   "metadata": {},
   "outputs": [
    {
     "name": "stdout",
     "output_type": "stream",
     "text": [
      "MSE: 1.4113709183221579\n",
      "MAE: 0.9487357186547637\n",
      "R2 score: 0.03528801683668237\n"
     ]
    }
   ],
   "source": [
    "print(\"MSE:\", mean_squared_error(y_test, elastic_predicted))\n",
    "print(\"MAE:\", mean_absolute_error(y_test, elastic_predicted))\n",
    "print(\"R2 score:\", r2_score(y_test, elastic_predicted))"
   ]
  },
  {
   "cell_type": "markdown",
   "metadata": {},
   "source": [
    "### Model: Lasso"
   ]
  },
  {
   "cell_type": "code",
   "execution_count": 38,
   "metadata": {},
   "outputs": [],
   "source": [
    "lassoModel = linear_model.Lasso(alpha = 0.1)"
   ]
  },
  {
   "cell_type": "code",
   "execution_count": 39,
   "metadata": {},
   "outputs": [
    {
     "data": {
      "text/plain": [
       "Lasso(alpha=0.1)"
      ]
     },
     "execution_count": 39,
     "metadata": {},
     "output_type": "execute_result"
    }
   ],
   "source": [
    "lassoModel.fit(X_train, y_train.values.ravel())"
   ]
  },
  {
   "cell_type": "code",
   "execution_count": 40,
   "metadata": {},
   "outputs": [],
   "source": [
    "lasso_predicted = lassoModel.predict(X_test)"
   ]
  },
  {
   "cell_type": "code",
   "execution_count": 41,
   "metadata": {},
   "outputs": [
    {
     "name": "stdout",
     "output_type": "stream",
     "text": [
      "MSE: 1.4113603342238266\n",
      "MAE: 0.9485731741982717\n",
      "R2 score: 0.03529525136756195\n"
     ]
    }
   ],
   "source": [
    "print(\"MSE:\", mean_squared_error(y_test, lasso_predicted))\n",
    "print(\"MAE:\", mean_absolute_error(y_test, lasso_predicted))\n",
    "print(\"R2 score:\", r2_score(y_test, lasso_predicted))"
   ]
  },
  {
   "cell_type": "markdown",
   "metadata": {},
   "source": [
    "### Model: SGD Regresión"
   ]
  },
  {
   "cell_type": "code",
   "execution_count": 42,
   "metadata": {},
   "outputs": [
    {
     "data": {
      "text/plain": [
       "SGDRegressor()"
      ]
     },
     "execution_count": 42,
     "metadata": {},
     "output_type": "execute_result"
    }
   ],
   "source": [
    "from sklearn.linear_model import SGDRegressor\n",
    "from sklearn.pipeline import make_pipeline\n",
    "from sklearn.preprocessing import StandardScaler\n",
    "\n",
    "sgdModel = SGDRegressor(max_iter = 1000, tol=1e-3)\n",
    "sgdModel.fit(X_train, y_train.values.ravel())"
   ]
  },
  {
   "cell_type": "code",
   "execution_count": 43,
   "metadata": {},
   "outputs": [],
   "source": [
    "sgd_y_predicted = sgdModel.predict(X_test)"
   ]
  },
  {
   "cell_type": "code",
   "execution_count": 44,
   "metadata": {},
   "outputs": [
    {
     "name": "stdout",
     "output_type": "stream",
     "text": [
      "MSE: 6.379965376641347e+46\n",
      "MAE: 1.3698361372386399e+23\n",
      "R2 score: -4.3608869724550197e+46\n"
     ]
    }
   ],
   "source": [
    "print(\"MSE:\", mean_squared_error(y_test, sgd_y_predicted))\n",
    "print(\"MAE:\", mean_absolute_error(y_test, sgd_y_predicted))\n",
    "print(\"R2 score:\", r2_score(y_test, sgd_y_predicted))"
   ]
  },
  {
   "cell_type": "code",
   "execution_count": 49,
   "metadata": {},
   "outputs": [],
   "source": [
    "# Mandar los modelos a un archivo binario con pickle y levantar el backend con eso.\n",
    "# Se utiliza solo ElasticNet y Lasso porque tienen un mejor desempeño\n",
    "with open(\"elasticModel.p\", \"wb\") as f:\n",
    "    pickle.dump(elasticModel, f)\n",
    "    \n",
    "with open(\"lassomodel.p\", \"wb\") as f:\n",
    "    pickle.dump(lassoModel, f)"
   ]
  }
 ],
 "metadata": {
  "kernelspec": {
   "display_name": "movie-rating-prediction",
   "language": "python",
   "name": "movie-rating-prediction"
  },
  "language_info": {
   "codemirror_mode": {
    "name": "ipython",
    "version": 3
   },
   "file_extension": ".py",
   "mimetype": "text/x-python",
   "name": "python",
   "nbconvert_exporter": "python",
   "pygments_lexer": "ipython3",
   "version": "3.9.0"
  }
 },
 "nbformat": 4,
 "nbformat_minor": 4
}
